{
  "nbformat": 4,
  "nbformat_minor": 0,
  "metadata": {
    "colab": {
      "provenance": [],
      "toc_visible": true,
      "authorship_tag": "ABX9TyOubrZMFicZ476uQiOPXiwS",
      "include_colab_link": true
    },
    "kernelspec": {
      "name": "python3",
      "display_name": "Python 3"
    },
    "language_info": {
      "name": "python"
    }
  },
  "cells": [
    {
      "cell_type": "markdown",
      "metadata": {
        "id": "view-in-github",
        "colab_type": "text"
      },
      "source": [
        "<a href=\"https://colab.research.google.com/github/Kofi-Jr/Bookstore-Credit-/blob/master/Python_Refresher_Udemy.ipynb\" target=\"_parent\"><img src=\"https://colab.research.google.com/assets/colab-badge.svg\" alt=\"Open In Colab\"/></a>"
      ]
    },
    {
      "cell_type": "markdown",
      "source": [
        "# Basic of Variables"
      ],
      "metadata": {
        "id": "z7HV1ofBn5FC"
      }
    },
    {
      "cell_type": "code",
      "source": [
        "print('this is the next statement')"
      ],
      "metadata": {
        "colab": {
          "base_uri": "https://localhost:8080/"
        },
        "id": "neG5IpPvlYrn",
        "outputId": "060b9c92-d5cb-4b24-fdbb-6db54bf10bb4"
      },
      "execution_count": null,
      "outputs": [
        {
          "output_type": "stream",
          "name": "stdout",
          "text": [
            "this is the next statement\n"
          ]
        }
      ]
    },
    {
      "cell_type": "code",
      "execution_count": null,
      "metadata": {
        "colab": {
          "base_uri": "https://localhost:8080/"
        },
        "id": "wuO6z331kyKy",
        "outputId": "be0d7201-028e-4fb1-9f39-c77287086d2d"
      },
      "outputs": [
        {
          "output_type": "stream",
          "name": "stdout",
          "text": [
            "Hello World\n"
          ]
        }
      ],
      "source": [
        "print('Hello World')"
      ]
    },
    {
      "cell_type": "code",
      "source": [
        "print('Hello World')"
      ],
      "metadata": {
        "id": "OUIgmxYclBFj",
        "colab": {
          "base_uri": "https://localhost:8080/"
        },
        "outputId": "be19c9e6-4510-4925-bbe7-e16688d18e91"
      },
      "execution_count": null,
      "outputs": [
        {
          "output_type": "stream",
          "name": "stdout",
          "text": [
            "Hello World\n"
          ]
        }
      ]
    },
    {
      "cell_type": "code",
      "source": [
        "number = 8852"
      ],
      "metadata": {
        "id": "pcMpOg2slc_f"
      },
      "execution_count": null,
      "outputs": []
    },
    {
      "cell_type": "code",
      "source": [
        "print(number)"
      ],
      "metadata": {
        "colab": {
          "base_uri": "https://localhost:8080/"
        },
        "id": "XyIh9zjTmds6",
        "outputId": "1b3ed2b0-8eb2-4ae5-a6a2-9a52f5b3c3ef"
      },
      "execution_count": null,
      "outputs": [
        {
          "output_type": "stream",
          "name": "stdout",
          "text": [
            "8852\n"
          ]
        }
      ]
    },
    {
      "cell_type": "code",
      "source": [
        "weight = 22"
      ],
      "metadata": {
        "id": "6DpGwdJGmlAG"
      },
      "execution_count": null,
      "outputs": []
    },
    {
      "cell_type": "code",
      "source": [
        "answer = number + weight"
      ],
      "metadata": {
        "id": "wdUn1g87m5fH"
      },
      "execution_count": null,
      "outputs": []
    },
    {
      "cell_type": "code",
      "source": [
        "print(answer)"
      ],
      "metadata": {
        "colab": {
          "base_uri": "https://localhost:8080/"
        },
        "id": "XzlXlgWlnQ9d",
        "outputId": "7bf1970b-5063-4796-a09e-f27cbc702de1"
      },
      "execution_count": null,
      "outputs": [
        {
          "output_type": "stream",
          "name": "stdout",
          "text": [
            "8874\n"
          ]
        }
      ]
    },
    {
      "cell_type": "markdown",
      "source": [
        "Concatenate character types or strings"
      ],
      "metadata": {
        "id": "M4TtAqJ8v3ew"
      }
    },
    {
      "cell_type": "code",
      "source": [
        "firstname = \"Kofi \""
      ],
      "metadata": {
        "id": "s-zmNZu0vYQR"
      },
      "execution_count": null,
      "outputs": []
    },
    {
      "cell_type": "code",
      "source": [
        "lastname = \"Acheampong\""
      ],
      "metadata": {
        "id": "0qUoiJO8vdrZ"
      },
      "execution_count": null,
      "outputs": []
    },
    {
      "cell_type": "code",
      "source": [
        "fullname = firstname + lastname"
      ],
      "metadata": {
        "id": "kY9QmAENvkB6"
      },
      "execution_count": null,
      "outputs": []
    },
    {
      "cell_type": "code",
      "source": [
        "weight = 200"
      ],
      "metadata": {
        "id": "Z9uCOuM-x0_M"
      },
      "execution_count": null,
      "outputs": []
    },
    {
      "cell_type": "code",
      "source": [
        "senetence  = firstname + lastname + \" weighs \" + str(weight) + \" lbs\" #convert int to str -> str(200)"
      ],
      "metadata": {
        "id": "eg-uT2X4xu_a"
      },
      "execution_count": null,
      "outputs": []
    },
    {
      "cell_type": "code",
      "source": [
        "print(senetence)"
      ],
      "metadata": {
        "colab": {
          "base_uri": "https://localhost:8080/"
        },
        "id": "kKJAZL1ax30H",
        "outputId": "a04290e6-6f47-4674-e1f3-560a63792b3e"
      },
      "execution_count": null,
      "outputs": [
        {
          "output_type": "stream",
          "name": "stdout",
          "text": [
            "Kofi Acheampong weighs 200 lbs\n"
          ]
        }
      ]
    },
    {
      "cell_type": "markdown",
      "source": [
        "# Basic Datatypes in Python"
      ],
      "metadata": {
        "id": "Qf1Kc_3v1t_4"
      }
    },
    {
      "cell_type": "markdown",
      "source": [
        "4 Types - Integer, Float, String, Boolean"
      ],
      "metadata": {
        "id": "SLOANCC9meuC"
      }
    },
    {
      "cell_type": "code",
      "source": [
        "age = 12"
      ],
      "metadata": {
        "id": "b6OLUZlyn5eO"
      },
      "execution_count": null,
      "outputs": []
    },
    {
      "cell_type": "code",
      "source": [
        "data_type = type(age) # type(12.08) shows <class 'float'>, type(\"12.08\") shows <class 'str'>"
      ],
      "metadata": {
        "id": "J8DyyBH8m1_N"
      },
      "execution_count": null,
      "outputs": []
    },
    {
      "cell_type": "code",
      "source": [
        "print(data_type)"
      ],
      "metadata": {
        "colab": {
          "base_uri": "https://localhost:8080/"
        },
        "id": "PGSwwrAxnEZn",
        "outputId": "08e9da88-8b23-4ec2-9a92-2bc3491089f4"
      },
      "execution_count": null,
      "outputs": [
        {
          "output_type": "stream",
          "name": "stdout",
          "text": [
            "<class 'int'>\n"
          ]
        }
      ]
    },
    {
      "cell_type": "markdown",
      "source": [
        "True, False (correct - colored in IDE) -> <class 'bool'>"
      ],
      "metadata": {
        "id": "fejwtl2VonGO"
      }
    },
    {
      "cell_type": "markdown",
      "source": [
        "true, false (wrong - not colored in IDE) -> ERROR"
      ],
      "metadata": {
        "id": "yNsf8R_zqPNQ"
      }
    },
    {
      "cell_type": "markdown",
      "source": [
        "TRUE, FALSE (wrong - not colored in IDE) -> ERROR"
      ],
      "metadata": {
        "id": "9CJ9fxx_qRzv"
      }
    },
    {
      "cell_type": "code",
      "source": [
        "adult = False"
      ],
      "metadata": {
        "id": "tE5ZZrsPqw20"
      },
      "execution_count": null,
      "outputs": []
    },
    {
      "cell_type": "code",
      "source": [
        "data_type = type(adult)"
      ],
      "metadata": {
        "id": "dPiDVApasQHo"
      },
      "execution_count": null,
      "outputs": []
    },
    {
      "cell_type": "code",
      "source": [
        "print(data_type)"
      ],
      "metadata": {
        "colab": {
          "base_uri": "https://localhost:8080/"
        },
        "id": "nsnNzyYYsPzX",
        "outputId": "a4e193df-5e06-4f33-f659-a171e33cd6d2"
      },
      "execution_count": null,
      "outputs": [
        {
          "output_type": "stream",
          "name": "stdout",
          "text": [
            "<class 'bool'>\n"
          ]
        }
      ]
    },
    {
      "cell_type": "code",
      "source": [
        "adult = 24"
      ],
      "metadata": {
        "id": "qUWUh5Drq07c"
      },
      "execution_count": null,
      "outputs": []
    },
    {
      "cell_type": "code",
      "source": [
        "data_type = type(adult)"
      ],
      "metadata": {
        "id": "CswyGJFIsR1P"
      },
      "execution_count": null,
      "outputs": []
    },
    {
      "cell_type": "code",
      "source": [
        "print(data_type)"
      ],
      "metadata": {
        "colab": {
          "base_uri": "https://localhost:8080/"
        },
        "id": "d2jdkJIisRjO",
        "outputId": "fe22f7f2-ea56-4b43-c963-6a4fdbc06776"
      },
      "execution_count": null,
      "outputs": [
        {
          "output_type": "stream",
          "name": "stdout",
          "text": [
            "<class 'int'>\n"
          ]
        }
      ]
    },
    {
      "cell_type": "code",
      "source": [
        "adult = \"string value\""
      ],
      "metadata": {
        "id": "LgAxgM_3radY"
      },
      "execution_count": null,
      "outputs": []
    },
    {
      "cell_type": "code",
      "source": [
        "data_type = type(adult)"
      ],
      "metadata": {
        "id": "SYBDILhkq9-c"
      },
      "execution_count": null,
      "outputs": []
    },
    {
      "cell_type": "code",
      "source": [
        "print(data_type) # dynamic typing, variable changes vs (static typing ex. Java - variables are declared by type)"
      ],
      "metadata": {
        "colab": {
          "base_uri": "https://localhost:8080/"
        },
        "id": "nzgrTSzFq4HN",
        "outputId": "de01d03b-17e2-42f4-cebc-7755c0bbf2a2"
      },
      "execution_count": null,
      "outputs": [
        {
          "output_type": "stream",
          "name": "stdout",
          "text": [
            "<class 'str'>\n"
          ]
        }
      ]
    }
  ]
}